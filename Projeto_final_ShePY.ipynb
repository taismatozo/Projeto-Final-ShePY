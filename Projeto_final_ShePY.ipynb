{
  "nbformat": 4,
  "nbformat_minor": 0,
  "metadata": {
    "colab": {
      "name": "Projeto final ShePY.ipynb",
      "provenance": [],
      "authorship_tag": "ABX9TyNy0M6/QhNHVLxTO+/XkytC",
      "include_colab_link": true
    },
    "kernelspec": {
      "name": "python3",
      "display_name": "Python 3"
    },
    "language_info": {
      "name": "python"
    }
  },
  "cells": [
    {
      "cell_type": "markdown",
      "metadata": {
        "id": "view-in-github",
        "colab_type": "text"
      },
      "source": [
        "<a href=\"https://colab.research.google.com/github/taismatozo/Projeto-Final-ShePY/blob/main/Projeto_final_ShePY.ipynb\" target=\"_parent\"><img src=\"https://colab.research.google.com/assets/colab-badge.svg\" alt=\"Open In Colab\"/></a>"
      ]
    },
    {
      "cell_type": "markdown",
      "metadata": {
        "id": "DEut8ogBi-Ik"
      },
      "source": [
        "# **Projeto Final ShePY**\n",
        "##ANÁLISE DE DADOS DE REAL TIME PCR (RT-PCR) UTILIZANDO PYTHON\n",
        "\n",
        "Células são as unidades que formam todos os seres vivos. Existem milhares de tipos de células diferentes e essa diferença se dá principalmente pelas proteínas que a células tem. Essas proteínas são determinadas a partir do genoma da célula, ou seja, do DNA. \n",
        "\n",
        "A partir do DNA são transcritos os RNAs, que são mensageiros que levam a informação do DNA até os ribossomos, que fazem a tradução desse RNA em proteínas.\n",
        "\n",
        "O RT-PCR mede o quanto do RNA de um gene específico nós temos na célula. Isso o torna uma ferramenta poderosa em toda a área de ciências da saúde. \n",
        "Utilizando o RT-PCR é possivel verificar nível de infecção de células ou tecidos (COVID-19, HIV) verificar a expressão de genes associados ao câncer ou ainda determinar um tipo celular.\n",
        "\n",
        "Infelizmente, o processo de análise do RT-PCR é um pouco trabalhoso visto que os dados são gerados em excel e que mais de uma análise é necessária."
      ]
    },
    {
      "cell_type": "markdown",
      "metadata": {
        "id": "L7spRWzpjl59"
      },
      "source": [
        "###**Importando dados do excel para o python**\n",
        "Utilizei a lib pandas para que possamos importar os dados gerados do RT-PCR.\n",
        "Além disso, também retirei as partes da tabela que não me interessavam"
      ]
    },
    {
      "cell_type": "code",
      "metadata": {
        "id": "33fuCOIjnRuP"
      },
      "source": [
        "import pandas as pd"
      ],
      "execution_count": 1,
      "outputs": []
    },
    {
      "cell_type": "code",
      "metadata": {
        "colab": {
          "base_uri": "https://localhost:8080/",
          "height": 382
        },
        "id": "NrUsWWV_UZTw",
        "outputId": "89731304-65a5-43d2-b2f6-fbbe49ec9c1d"
      },
      "source": [
        "pcr = pd.read_excel('170614.xls', 'Results', \n",
        "                    skiprows = 42, #retirar linhas de cima\n",
        "                    skipfooter = 5) #retirar linhas de baixo\n",
        "pcr.head(5)\n"
      ],
      "execution_count": 2,
      "outputs": [
        {
          "output_type": "execute_result",
          "data": {
            "text/html": [
              "<div>\n",
              "<style scoped>\n",
              "    .dataframe tbody tr th:only-of-type {\n",
              "        vertical-align: middle;\n",
              "    }\n",
              "\n",
              "    .dataframe tbody tr th {\n",
              "        vertical-align: top;\n",
              "    }\n",
              "\n",
              "    .dataframe thead th {\n",
              "        text-align: right;\n",
              "    }\n",
              "</style>\n",
              "<table border=\"1\" class=\"dataframe\">\n",
              "  <thead>\n",
              "    <tr style=\"text-align: right;\">\n",
              "      <th></th>\n",
              "      <th>Well</th>\n",
              "      <th>Well Position</th>\n",
              "      <th>Omit</th>\n",
              "      <th>Sample Name</th>\n",
              "      <th>Target Name</th>\n",
              "      <th>Task</th>\n",
              "      <th>Reporter</th>\n",
              "      <th>Quencher</th>\n",
              "      <th>Quantity</th>\n",
              "      <th>Quantity Mean</th>\n",
              "      <th>Quantity SD</th>\n",
              "      <th>RQ</th>\n",
              "      <th>RQ Min</th>\n",
              "      <th>RQ Max</th>\n",
              "      <th>CT</th>\n",
              "      <th>Ct Mean</th>\n",
              "      <th>Ct SD</th>\n",
              "      <th>Delta Ct</th>\n",
              "      <th>Delta Ct Mean</th>\n",
              "      <th>Delta Ct SD</th>\n",
              "      <th>Delta Ct SE</th>\n",
              "      <th>Delta Delta Ct</th>\n",
              "      <th>Automatic Ct Threshold</th>\n",
              "      <th>Ct Threshold</th>\n",
              "      <th>Automatic Baseline</th>\n",
              "      <th>Baseline Start</th>\n",
              "      <th>Baseline End</th>\n",
              "      <th>Amp Status</th>\n",
              "      <th>Comments</th>\n",
              "      <th>Cq Conf</th>\n",
              "      <th>EXPFAIL</th>\n",
              "      <th>PRFLOW</th>\n",
              "      <th>NOAMP</th>\n",
              "      <th>CQCONF</th>\n",
              "      <th>HIGHSD</th>\n",
              "    </tr>\n",
              "  </thead>\n",
              "  <tbody>\n",
              "    <tr>\n",
              "      <th>0</th>\n",
              "      <td>7</td>\n",
              "      <td>A7</td>\n",
              "      <td>False</td>\n",
              "      <td>DC NT</td>\n",
              "      <td>B2M</td>\n",
              "      <td>UNKNOWN</td>\n",
              "      <td>FAM</td>\n",
              "      <td>NFQ-MGB</td>\n",
              "      <td>NaN</td>\n",
              "      <td>NaN</td>\n",
              "      <td>NaN</td>\n",
              "      <td>NaN</td>\n",
              "      <td>NaN</td>\n",
              "      <td>NaN</td>\n",
              "      <td>15.5444</td>\n",
              "      <td>15.588983</td>\n",
              "      <td>0.063083</td>\n",
              "      <td>NaN</td>\n",
              "      <td>NaN</td>\n",
              "      <td>NaN</td>\n",
              "      <td>NaN</td>\n",
              "      <td>NaN</td>\n",
              "      <td>True</td>\n",
              "      <td>0.133525</td>\n",
              "      <td>True</td>\n",
              "      <td>3</td>\n",
              "      <td>10</td>\n",
              "      <td>Amp</td>\n",
              "      <td>NaN</td>\n",
              "      <td>0.996533</td>\n",
              "      <td>N</td>\n",
              "      <td>N</td>\n",
              "      <td>N</td>\n",
              "      <td>N</td>\n",
              "      <td>N</td>\n",
              "    </tr>\n",
              "    <tr>\n",
              "      <th>1</th>\n",
              "      <td>8</td>\n",
              "      <td>A8</td>\n",
              "      <td>False</td>\n",
              "      <td>DC NT</td>\n",
              "      <td>B2M</td>\n",
              "      <td>UNKNOWN</td>\n",
              "      <td>FAM</td>\n",
              "      <td>NFQ-MGB</td>\n",
              "      <td>NaN</td>\n",
              "      <td>NaN</td>\n",
              "      <td>NaN</td>\n",
              "      <td>NaN</td>\n",
              "      <td>NaN</td>\n",
              "      <td>NaN</td>\n",
              "      <td>15.6336</td>\n",
              "      <td>15.588983</td>\n",
              "      <td>0.063083</td>\n",
              "      <td>NaN</td>\n",
              "      <td>NaN</td>\n",
              "      <td>NaN</td>\n",
              "      <td>NaN</td>\n",
              "      <td>NaN</td>\n",
              "      <td>True</td>\n",
              "      <td>0.133525</td>\n",
              "      <td>True</td>\n",
              "      <td>3</td>\n",
              "      <td>11</td>\n",
              "      <td>Amp</td>\n",
              "      <td>NaN</td>\n",
              "      <td>0.995035</td>\n",
              "      <td>N</td>\n",
              "      <td>N</td>\n",
              "      <td>N</td>\n",
              "      <td>N</td>\n",
              "      <td>N</td>\n",
              "    </tr>\n",
              "    <tr>\n",
              "      <th>2</th>\n",
              "      <td>9</td>\n",
              "      <td>A9</td>\n",
              "      <td>False</td>\n",
              "      <td>DC MYO1G #1</td>\n",
              "      <td>MYO1G</td>\n",
              "      <td>UNKNOWN</td>\n",
              "      <td>FAM</td>\n",
              "      <td>NFQ-MGB</td>\n",
              "      <td>NaN</td>\n",
              "      <td>NaN</td>\n",
              "      <td>NaN</td>\n",
              "      <td>1.0</td>\n",
              "      <td>0.914308</td>\n",
              "      <td>1.093724</td>\n",
              "      <td>26.2701</td>\n",
              "      <td>26.273643</td>\n",
              "      <td>0.004959</td>\n",
              "      <td>NaN</td>\n",
              "      <td>10.354709</td>\n",
              "      <td>0.070256</td>\n",
              "      <td>0.040613</td>\n",
              "      <td>0.0</td>\n",
              "      <td>True</td>\n",
              "      <td>0.485556</td>\n",
              "      <td>True</td>\n",
              "      <td>3</td>\n",
              "      <td>20</td>\n",
              "      <td>Amp</td>\n",
              "      <td>NaN</td>\n",
              "      <td>0.982936</td>\n",
              "      <td>N</td>\n",
              "      <td>N</td>\n",
              "      <td>N</td>\n",
              "      <td>N</td>\n",
              "      <td>N</td>\n",
              "    </tr>\n",
              "    <tr>\n",
              "      <th>3</th>\n",
              "      <td>10</td>\n",
              "      <td>A10</td>\n",
              "      <td>False</td>\n",
              "      <td>DC MYO1G #1</td>\n",
              "      <td>MYO1G</td>\n",
              "      <td>UNKNOWN</td>\n",
              "      <td>FAM</td>\n",
              "      <td>NFQ-MGB</td>\n",
              "      <td>NaN</td>\n",
              "      <td>NaN</td>\n",
              "      <td>NaN</td>\n",
              "      <td>1.0</td>\n",
              "      <td>0.914308</td>\n",
              "      <td>1.093724</td>\n",
              "      <td>26.2772</td>\n",
              "      <td>26.273643</td>\n",
              "      <td>0.004959</td>\n",
              "      <td>NaN</td>\n",
              "      <td>10.354709</td>\n",
              "      <td>0.070256</td>\n",
              "      <td>0.040613</td>\n",
              "      <td>0.0</td>\n",
              "      <td>True</td>\n",
              "      <td>0.485556</td>\n",
              "      <td>True</td>\n",
              "      <td>3</td>\n",
              "      <td>19</td>\n",
              "      <td>Amp</td>\n",
              "      <td>NaN</td>\n",
              "      <td>0.983164</td>\n",
              "      <td>N</td>\n",
              "      <td>N</td>\n",
              "      <td>N</td>\n",
              "      <td>N</td>\n",
              "      <td>N</td>\n",
              "    </tr>\n",
              "    <tr>\n",
              "      <th>4</th>\n",
              "      <td>11</td>\n",
              "      <td>A11</td>\n",
              "      <td>False</td>\n",
              "      <td>JURKAT MYO9B #3</td>\n",
              "      <td>HPRT</td>\n",
              "      <td>UNKNOWN</td>\n",
              "      <td>FAM</td>\n",
              "      <td>NFQ-MGB</td>\n",
              "      <td>NaN</td>\n",
              "      <td>NaN</td>\n",
              "      <td>NaN</td>\n",
              "      <td>NaN</td>\n",
              "      <td>NaN</td>\n",
              "      <td>NaN</td>\n",
              "      <td>24.8637</td>\n",
              "      <td>24.589966</td>\n",
              "      <td>0.387144</td>\n",
              "      <td>NaN</td>\n",
              "      <td>NaN</td>\n",
              "      <td>NaN</td>\n",
              "      <td>NaN</td>\n",
              "      <td>NaN</td>\n",
              "      <td>True</td>\n",
              "      <td>0.364427</td>\n",
              "      <td>True</td>\n",
              "      <td>3</td>\n",
              "      <td>19</td>\n",
              "      <td>Amp</td>\n",
              "      <td>NaN</td>\n",
              "      <td>0.982433</td>\n",
              "      <td>N</td>\n",
              "      <td>N</td>\n",
              "      <td>N</td>\n",
              "      <td>N</td>\n",
              "      <td>N</td>\n",
              "    </tr>\n",
              "  </tbody>\n",
              "</table>\n",
              "</div>"
            ],
            "text/plain": [
              "   Well Well Position   Omit      Sample Name  ... PRFLOW NOAMP CQCONF HIGHSD\n",
              "0     7            A7  False            DC NT  ...      N     N      N      N\n",
              "1     8            A8  False            DC NT  ...      N     N      N      N\n",
              "2     9            A9  False      DC MYO1G #1  ...      N     N      N      N\n",
              "3    10           A10  False      DC MYO1G #1  ...      N     N      N      N\n",
              "4    11           A11  False  JURKAT MYO9B #3  ...      N     N      N      N\n",
              "\n",
              "[5 rows x 35 columns]"
            ]
          },
          "metadata": {
            "tags": []
          },
          "execution_count": 2
        }
      ]
    },
    {
      "cell_type": "code",
      "metadata": {
        "colab": {
          "base_uri": "https://localhost:8080/",
          "height": 366
        },
        "id": "X4nJccpBWMiP",
        "outputId": "f6ea1ac7-954c-4417-a458-50ac20f62e11"
      },
      "source": [
        "pcr.tail()"
      ],
      "execution_count": 3,
      "outputs": [
        {
          "output_type": "execute_result",
          "data": {
            "text/html": [
              "<div>\n",
              "<style scoped>\n",
              "    .dataframe tbody tr th:only-of-type {\n",
              "        vertical-align: middle;\n",
              "    }\n",
              "\n",
              "    .dataframe tbody tr th {\n",
              "        vertical-align: top;\n",
              "    }\n",
              "\n",
              "    .dataframe thead th {\n",
              "        text-align: right;\n",
              "    }\n",
              "</style>\n",
              "<table border=\"1\" class=\"dataframe\">\n",
              "  <thead>\n",
              "    <tr style=\"text-align: right;\">\n",
              "      <th></th>\n",
              "      <th>Well</th>\n",
              "      <th>Well Position</th>\n",
              "      <th>Omit</th>\n",
              "      <th>Sample Name</th>\n",
              "      <th>Target Name</th>\n",
              "      <th>Task</th>\n",
              "      <th>Reporter</th>\n",
              "      <th>Quencher</th>\n",
              "      <th>Quantity</th>\n",
              "      <th>Quantity Mean</th>\n",
              "      <th>Quantity SD</th>\n",
              "      <th>RQ</th>\n",
              "      <th>RQ Min</th>\n",
              "      <th>RQ Max</th>\n",
              "      <th>CT</th>\n",
              "      <th>Ct Mean</th>\n",
              "      <th>Ct SD</th>\n",
              "      <th>Delta Ct</th>\n",
              "      <th>Delta Ct Mean</th>\n",
              "      <th>Delta Ct SD</th>\n",
              "      <th>Delta Ct SE</th>\n",
              "      <th>Delta Delta Ct</th>\n",
              "      <th>Automatic Ct Threshold</th>\n",
              "      <th>Ct Threshold</th>\n",
              "      <th>Automatic Baseline</th>\n",
              "      <th>Baseline Start</th>\n",
              "      <th>Baseline End</th>\n",
              "      <th>Amp Status</th>\n",
              "      <th>Comments</th>\n",
              "      <th>Cq Conf</th>\n",
              "      <th>EXPFAIL</th>\n",
              "      <th>PRFLOW</th>\n",
              "      <th>NOAMP</th>\n",
              "      <th>CQCONF</th>\n",
              "      <th>HIGHSD</th>\n",
              "    </tr>\n",
              "  </thead>\n",
              "  <tbody>\n",
              "    <tr>\n",
              "      <th>41</th>\n",
              "      <td>91</td>\n",
              "      <td>H7</td>\n",
              "      <td>False</td>\n",
              "      <td>DC MYO1G #1</td>\n",
              "      <td>RSAD-2</td>\n",
              "      <td>UNKNOWN</td>\n",
              "      <td>FAM</td>\n",
              "      <td>NFQ-MGB</td>\n",
              "      <td>NaN</td>\n",
              "      <td>NaN</td>\n",
              "      <td>NaN</td>\n",
              "      <td>1.0</td>\n",
              "      <td>0.894216</td>\n",
              "      <td>1.118299</td>\n",
              "      <td>28.8114</td>\n",
              "      <td>28.841965</td>\n",
              "      <td>0.043173</td>\n",
              "      <td>NaN</td>\n",
              "      <td>12.923028</td>\n",
              "      <td>0.082312</td>\n",
              "      <td>0.050686</td>\n",
              "      <td>0.0</td>\n",
              "      <td>True</td>\n",
              "      <td>0.468925</td>\n",
              "      <td>True</td>\n",
              "      <td>3</td>\n",
              "      <td>21</td>\n",
              "      <td>Amp</td>\n",
              "      <td>NaN</td>\n",
              "      <td>0.984012</td>\n",
              "      <td>N</td>\n",
              "      <td>N</td>\n",
              "      <td>N</td>\n",
              "      <td>N</td>\n",
              "      <td>N</td>\n",
              "    </tr>\n",
              "    <tr>\n",
              "      <th>42</th>\n",
              "      <td>92</td>\n",
              "      <td>H8</td>\n",
              "      <td>False</td>\n",
              "      <td>DC MYO1G #1</td>\n",
              "      <td>RSAD-2</td>\n",
              "      <td>UNKNOWN</td>\n",
              "      <td>FAM</td>\n",
              "      <td>NFQ-MGB</td>\n",
              "      <td>NaN</td>\n",
              "      <td>NaN</td>\n",
              "      <td>NaN</td>\n",
              "      <td>1.0</td>\n",
              "      <td>0.894216</td>\n",
              "      <td>1.118299</td>\n",
              "      <td>28.8725</td>\n",
              "      <td>28.841965</td>\n",
              "      <td>0.043173</td>\n",
              "      <td>NaN</td>\n",
              "      <td>12.923028</td>\n",
              "      <td>0.082312</td>\n",
              "      <td>0.050686</td>\n",
              "      <td>0.0</td>\n",
              "      <td>True</td>\n",
              "      <td>0.468925</td>\n",
              "      <td>True</td>\n",
              "      <td>3</td>\n",
              "      <td>23</td>\n",
              "      <td>Amp</td>\n",
              "      <td>NaN</td>\n",
              "      <td>0.977137</td>\n",
              "      <td>N</td>\n",
              "      <td>N</td>\n",
              "      <td>N</td>\n",
              "      <td>N</td>\n",
              "      <td>N</td>\n",
              "    </tr>\n",
              "    <tr>\n",
              "      <th>43</th>\n",
              "      <td>93</td>\n",
              "      <td>H9</td>\n",
              "      <td>False</td>\n",
              "      <td>JURKAT SCR</td>\n",
              "      <td>MYO9B</td>\n",
              "      <td>UNKNOWN</td>\n",
              "      <td>FAM</td>\n",
              "      <td>NFQ-MGB</td>\n",
              "      <td>NaN</td>\n",
              "      <td>NaN</td>\n",
              "      <td>NaN</td>\n",
              "      <td>NaN</td>\n",
              "      <td>NaN</td>\n",
              "      <td>NaN</td>\n",
              "      <td>23.4656</td>\n",
              "      <td>23.279995</td>\n",
              "      <td>0.262516</td>\n",
              "      <td>NaN</td>\n",
              "      <td>NaN</td>\n",
              "      <td>NaN</td>\n",
              "      <td>NaN</td>\n",
              "      <td>NaN</td>\n",
              "      <td>True</td>\n",
              "      <td>0.370627</td>\n",
              "      <td>True</td>\n",
              "      <td>3</td>\n",
              "      <td>17</td>\n",
              "      <td>Amp</td>\n",
              "      <td>NaN</td>\n",
              "      <td>0.981150</td>\n",
              "      <td>N</td>\n",
              "      <td>N</td>\n",
              "      <td>N</td>\n",
              "      <td>N</td>\n",
              "      <td>N</td>\n",
              "    </tr>\n",
              "    <tr>\n",
              "      <th>44</th>\n",
              "      <td>94</td>\n",
              "      <td>H10</td>\n",
              "      <td>False</td>\n",
              "      <td>JURKAT SCR</td>\n",
              "      <td>MYO9B</td>\n",
              "      <td>UNKNOWN</td>\n",
              "      <td>FAM</td>\n",
              "      <td>NFQ-MGB</td>\n",
              "      <td>NaN</td>\n",
              "      <td>NaN</td>\n",
              "      <td>NaN</td>\n",
              "      <td>NaN</td>\n",
              "      <td>NaN</td>\n",
              "      <td>NaN</td>\n",
              "      <td>23.0944</td>\n",
              "      <td>23.279995</td>\n",
              "      <td>0.262516</td>\n",
              "      <td>NaN</td>\n",
              "      <td>NaN</td>\n",
              "      <td>NaN</td>\n",
              "      <td>NaN</td>\n",
              "      <td>NaN</td>\n",
              "      <td>True</td>\n",
              "      <td>0.370627</td>\n",
              "      <td>True</td>\n",
              "      <td>3</td>\n",
              "      <td>17</td>\n",
              "      <td>Amp</td>\n",
              "      <td>NaN</td>\n",
              "      <td>0.986536</td>\n",
              "      <td>N</td>\n",
              "      <td>N</td>\n",
              "      <td>N</td>\n",
              "      <td>N</td>\n",
              "      <td>N</td>\n",
              "    </tr>\n",
              "    <tr>\n",
              "      <th>45</th>\n",
              "      <td>95</td>\n",
              "      <td>H11</td>\n",
              "      <td>False</td>\n",
              "      <td>H2O</td>\n",
              "      <td>HPRT</td>\n",
              "      <td>UNKNOWN</td>\n",
              "      <td>FAM</td>\n",
              "      <td>NFQ-MGB</td>\n",
              "      <td>NaN</td>\n",
              "      <td>NaN</td>\n",
              "      <td>NaN</td>\n",
              "      <td>NaN</td>\n",
              "      <td>NaN</td>\n",
              "      <td>NaN</td>\n",
              "      <td>Undetermined</td>\n",
              "      <td>NaN</td>\n",
              "      <td>NaN</td>\n",
              "      <td>NaN</td>\n",
              "      <td>NaN</td>\n",
              "      <td>NaN</td>\n",
              "      <td>NaN</td>\n",
              "      <td>NaN</td>\n",
              "      <td>True</td>\n",
              "      <td>0.364427</td>\n",
              "      <td>True</td>\n",
              "      <td>3</td>\n",
              "      <td>28</td>\n",
              "      <td>No Amp</td>\n",
              "      <td>NaN</td>\n",
              "      <td>0.000000</td>\n",
              "      <td>N</td>\n",
              "      <td>Y</td>\n",
              "      <td>N</td>\n",
              "      <td>Y</td>\n",
              "      <td>N</td>\n",
              "    </tr>\n",
              "  </tbody>\n",
              "</table>\n",
              "</div>"
            ],
            "text/plain": [
              "    Well Well Position   Omit  Sample Name  ... PRFLOW NOAMP CQCONF HIGHSD\n",
              "41    91            H7  False  DC MYO1G #1  ...      N     N      N      N\n",
              "42    92            H8  False  DC MYO1G #1  ...      N     N      N      N\n",
              "43    93            H9  False   JURKAT SCR  ...      N     N      N      N\n",
              "44    94           H10  False   JURKAT SCR  ...      N     N      N      N\n",
              "45    95           H11  False          H2O  ...      Y     N      Y      N\n",
              "\n",
              "[5 rows x 35 columns]"
            ]
          },
          "metadata": {
            "tags": []
          },
          "execution_count": 3
        }
      ]
    },
    {
      "cell_type": "code",
      "metadata": {
        "colab": {
          "base_uri": "https://localhost:8080/"
        },
        "id": "8lZbUF-3Wz7l",
        "outputId": "d26ecc24-c8ae-4329-9fff-2dae1f719ad9"
      },
      "source": [
        "pcr.shape"
      ],
      "execution_count": 4,
      "outputs": [
        {
          "output_type": "execute_result",
          "data": {
            "text/plain": [
              "(46, 35)"
            ]
          },
          "metadata": {
            "tags": []
          },
          "execution_count": 4
        }
      ]
    },
    {
      "cell_type": "code",
      "metadata": {
        "colab": {
          "base_uri": "https://localhost:8080/",
          "height": 138
        },
        "id": "IpchUHb8anTt",
        "outputId": "0fa7a8e3-3880-4c35-9c57-27dd6e79da93"
      },
      "source": [
        "#Retirei também as colunas que não são úteis em minha análise\n",
        "pcr_clean = pcr.iloc[:,[3, 4, 14, 15,16]]\n",
        "pcr_clean.head(3)"
      ],
      "execution_count": 5,
      "outputs": [
        {
          "output_type": "execute_result",
          "data": {
            "text/html": [
              "<div>\n",
              "<style scoped>\n",
              "    .dataframe tbody tr th:only-of-type {\n",
              "        vertical-align: middle;\n",
              "    }\n",
              "\n",
              "    .dataframe tbody tr th {\n",
              "        vertical-align: top;\n",
              "    }\n",
              "\n",
              "    .dataframe thead th {\n",
              "        text-align: right;\n",
              "    }\n",
              "</style>\n",
              "<table border=\"1\" class=\"dataframe\">\n",
              "  <thead>\n",
              "    <tr style=\"text-align: right;\">\n",
              "      <th></th>\n",
              "      <th>Sample Name</th>\n",
              "      <th>Target Name</th>\n",
              "      <th>CT</th>\n",
              "      <th>Ct Mean</th>\n",
              "      <th>Ct SD</th>\n",
              "    </tr>\n",
              "  </thead>\n",
              "  <tbody>\n",
              "    <tr>\n",
              "      <th>0</th>\n",
              "      <td>DC NT</td>\n",
              "      <td>B2M</td>\n",
              "      <td>15.5444</td>\n",
              "      <td>15.588983</td>\n",
              "      <td>0.063083</td>\n",
              "    </tr>\n",
              "    <tr>\n",
              "      <th>1</th>\n",
              "      <td>DC NT</td>\n",
              "      <td>B2M</td>\n",
              "      <td>15.6336</td>\n",
              "      <td>15.588983</td>\n",
              "      <td>0.063083</td>\n",
              "    </tr>\n",
              "    <tr>\n",
              "      <th>2</th>\n",
              "      <td>DC MYO1G #1</td>\n",
              "      <td>MYO1G</td>\n",
              "      <td>26.2701</td>\n",
              "      <td>26.273643</td>\n",
              "      <td>0.004959</td>\n",
              "    </tr>\n",
              "  </tbody>\n",
              "</table>\n",
              "</div>"
            ],
            "text/plain": [
              "   Sample Name Target Name       CT    Ct Mean     Ct SD\n",
              "0        DC NT         B2M  15.5444  15.588983  0.063083\n",
              "1        DC NT         B2M  15.6336  15.588983  0.063083\n",
              "2  DC MYO1G #1       MYO1G  26.2701  26.273643  0.004959"
            ]
          },
          "metadata": {
            "tags": []
          },
          "execution_count": 5
        }
      ]
    },
    {
      "cell_type": "code",
      "metadata": {
        "id": "s1SHnCPIlLEk",
        "colab": {
          "base_uri": "https://localhost:8080/"
        },
        "outputId": "a59c8ef1-cfd3-464e-991b-9168c4516b32"
      },
      "source": [
        "pcr_clean.info() "
      ],
      "execution_count": 6,
      "outputs": [
        {
          "output_type": "stream",
          "text": [
            "<class 'pandas.core.frame.DataFrame'>\n",
            "RangeIndex: 46 entries, 0 to 45\n",
            "Data columns (total 5 columns):\n",
            " #   Column       Non-Null Count  Dtype  \n",
            "---  ------       --------------  -----  \n",
            " 0   Sample Name  46 non-null     object \n",
            " 1   Target Name  46 non-null     object \n",
            " 2   CT           46 non-null     object \n",
            " 3   Ct Mean      42 non-null     float64\n",
            " 4   Ct SD        41 non-null     float64\n",
            "dtypes: float64(2), object(3)\n",
            "memory usage: 1.9+ KB\n"
          ],
          "name": "stdout"
        }
      ]
    },
    {
      "cell_type": "code",
      "metadata": {
        "colab": {
          "base_uri": "https://localhost:8080/"
        },
        "id": "ZPGa9QmIg1IW",
        "outputId": "7b645316-69e9-417b-b5a7-7516a078e700"
      },
      "source": [
        "pcr_clean['CT'] = pd.to_numeric(pcr_clean['CT'], errors='coerce')\n",
        "#vi que uma das colunas que era númerica estava com object e não como float, então utilizei o código acima para consertar isso e não ter problema na hora de montar o gráfico"
      ],
      "execution_count": 7,
      "outputs": [
        {
          "output_type": "stream",
          "text": [
            "/usr/local/lib/python3.7/dist-packages/ipykernel_launcher.py:1: SettingWithCopyWarning: \n",
            "A value is trying to be set on a copy of a slice from a DataFrame.\n",
            "Try using .loc[row_indexer,col_indexer] = value instead\n",
            "\n",
            "See the caveats in the documentation: https://pandas.pydata.org/pandas-docs/stable/user_guide/indexing.html#returning-a-view-versus-a-copy\n",
            "  \"\"\"Entry point for launching an IPython kernel.\n"
          ],
          "name": "stderr"
        }
      ]
    },
    {
      "cell_type": "code",
      "metadata": {
        "colab": {
          "base_uri": "https://localhost:8080/"
        },
        "id": "VSCdAIt1iwLU",
        "outputId": "ed12a272-f6b0-4c59-e3f6-e203c2275f49"
      },
      "source": [
        "pcr_clean.info()"
      ],
      "execution_count": 8,
      "outputs": [
        {
          "output_type": "stream",
          "text": [
            "<class 'pandas.core.frame.DataFrame'>\n",
            "RangeIndex: 46 entries, 0 to 45\n",
            "Data columns (total 5 columns):\n",
            " #   Column       Non-Null Count  Dtype  \n",
            "---  ------       --------------  -----  \n",
            " 0   Sample Name  46 non-null     object \n",
            " 1   Target Name  46 non-null     object \n",
            " 2   CT           42 non-null     float64\n",
            " 3   Ct Mean      42 non-null     float64\n",
            " 4   Ct SD        41 non-null     float64\n",
            "dtypes: float64(3), object(2)\n",
            "memory usage: 1.9+ KB\n"
          ],
          "name": "stdout"
        }
      ]
    },
    {
      "cell_type": "markdown",
      "metadata": {
        "id": "qntTwMx6Uxc3"
      },
      "source": [
        "#Análisando as duplicatas do experimento \n",
        "Para ter certeza de que as duplicatas presentes no experimento estão parecidas, plotei um gráfico de barras contendo todas as minhas amostras e pedi que o sns colocasse também uma barra de desvio (sd). Assim consigo saber se houve algum erro na hora da execução do experimento."
      ]
    },
    {
      "cell_type": "code",
      "metadata": {
        "id": "3RPt9SuKfTq0"
      },
      "source": [
        "import matplotlib.pyplot as plt\n",
        "%matplotlib inline\n",
        "import seaborn as sns\n",
        "import numpy as np"
      ],
      "execution_count": 9,
      "outputs": []
    },
    {
      "cell_type": "code",
      "metadata": {
        "colab": {
          "base_uri": "https://localhost:8080/",
          "height": 622
        },
        "id": "UN4eQCIfk7EA",
        "outputId": "8c509631-1b9c-438b-87de-646a2a2f2df0"
      },
      "source": [
        "plt.figure(figsize=(8, 10))\n",
        "sns.barplot(x=\"CT\", y=\"Sample Name\", hue= 'Target Name', \n",
        "            hue_order= ['B2M', 'RSAD-2', 'MYO1G', 'HPRT', 'MYO9B'],\n",
        "            order= ['DC NT', 'DC SCR', 'DC MYO1G #1', 'DC MYO1G #4', 'JURKAT NT','JURKAT SCR', 'JURKAT MYO9B #3','JURKAT MYO9B #5', 'H2O'],\n",
        "            orient= 'h',\n",
        "            ci = 'sd', \n",
        "            palette = 'flare', \n",
        "            data=pcr_clean)"
      ],
      "execution_count": 61,
      "outputs": [
        {
          "output_type": "execute_result",
          "data": {
            "text/plain": [
              "<matplotlib.axes._subplots.AxesSubplot at 0x7fbc7ae37850>"
            ]
          },
          "metadata": {
            "tags": []
          },
          "execution_count": 61
        },
        {
          "output_type": "display_data",
          "data": {
            "image/png": "[encoded data removed]",
            "text/plain": [
              "<Figure size 576x720 with 1 Axes>"
            ]
          },
          "metadata": {
            "tags": [],
            "needs_background": "light"
          }
        }
      ]
    },
    {
      "cell_type": "markdown",
      "metadata": {
        "id": "g6g8g_tOVQ9T"
      },
      "source": [
        "#Análisando os genes 'Housekeeping'\n",
        "Genes housekeeping são genes que são expressos geralmente mais ou menos na mesma quantidade independente do tratamento feito na célula. Nós utilizamos genes housekeeping para comparar à expressão do seu gene de interesse.\n",
        "\n",
        "Por isso, plotei boxplot, assim é possível ver se há algum 'outlier' onde a expressão do housekeeping não correspondeu ao esperado."
      ]
    },
    {
      "cell_type": "code",
      "metadata": {
        "id": "ijB8J8K-lM2v",
        "colab": {
          "base_uri": "https://localhost:8080/",
          "height": 622
        },
        "outputId": "29961400-9efa-4d90-f986-e7a44d3aa2b4"
      },
      "source": [
        "plt.figure(figsize=(8, 10))\n",
        "sns.boxplot(x= 'Target Name' , y= 'CT' , data= pcr_clean,\n",
        "            order= ['B2M', 'HPRT', 'RSAD-2'])"
      ],
      "execution_count": 11,
      "outputs": [
        {
          "output_type": "execute_result",
          "data": {
            "text/plain": [
              "<matplotlib.axes._subplots.AxesSubplot at 0x7fbc7ba3cfd0>"
            ]
          },
          "metadata": {
            "tags": []
          },
          "execution_count": 11
        },
        {
          "output_type": "display_data",
          "data": {
            "image/png": "[encoded data removed]",
            "text/plain": [
              "<Figure size 576x720 with 1 Axes>"
            ]
          },
          "metadata": {
            "tags": [],
            "needs_background": "light"
          }
        }
      ]
    },
    {
      "cell_type": "markdown",
      "metadata": {
        "id": "HY9V4noSWTKS"
      },
      "source": [
        "#Análisando a expressão gênica de DCs (Células dendríticas)\n",
        "Para analisar de fato a expressão gênica de uma proteína, utilizamos a seguinte equação: 2^-(CT gene de interesse - CT do gene housekeeping). \n",
        "\n",
        "A forma mais fácil que encontrei de realizar essa análise, foi atribuindo uma váriavel para o CT de cada amostra. \n",
        "\n",
        "Tentei fazer isso de diversos modos, mas o único que funcionou foi encontrando a amostra de interesse com o .loc. Para isso precisei encontrar a linha em questão que continha o dados que seria atribuido a variável. \n",
        "Então usei o loc para encontrar em qual linha estavam minhas amostras especificas, dentro do meu conjunto de dados e o loc novamente para dizer que eu queria que ele selecionasse os dados da coluna ct mean da linha específica.\n",
        "\n",
        "Nessas amostras, analisei a expressão de myo1g em células que foram tratadas ou não com shRNA que diminui a expressão da proteína.\n",
        "Também analisei a expressão do RSAD2, um gene que é expresso em células ativadas para verificar se as células se ativavam com o tratamento com shRNA\n",
        "\n"
      ]
    },
    {
      "cell_type": "code",
      "metadata": {
        "id": "YcVMJdhCuX2h",
        "colab": {
          "base_uri": "https://localhost:8080/",
          "height": 230
        },
        "outputId": "3078a0ec-e531-4ea1-df3e-1815420c2dd4"
      },
      "source": [
        "pcr_clean.loc[pcr_clean['Sample Name'] == 'DC SCR']"
      ],
      "execution_count": 12,
      "outputs": [
        {
          "output_type": "execute_result",
          "data": {
            "text/html": [
              "<div>\n",
              "<style scoped>\n",
              "    .dataframe tbody tr th:only-of-type {\n",
              "        vertical-align: middle;\n",
              "    }\n",
              "\n",
              "    .dataframe tbody tr th {\n",
              "        vertical-align: top;\n",
              "    }\n",
              "\n",
              "    .dataframe thead th {\n",
              "        text-align: right;\n",
              "    }\n",
              "</style>\n",
              "<table border=\"1\" class=\"dataframe\">\n",
              "  <thead>\n",
              "    <tr style=\"text-align: right;\">\n",
              "      <th></th>\n",
              "      <th>Sample Name</th>\n",
              "      <th>Target Name</th>\n",
              "      <th>CT</th>\n",
              "      <th>Ct Mean</th>\n",
              "      <th>Ct SD</th>\n",
              "    </tr>\n",
              "  </thead>\n",
              "  <tbody>\n",
              "    <tr>\n",
              "      <th>18</th>\n",
              "      <td>DC SCR</td>\n",
              "      <td>B2M</td>\n",
              "      <td>15.970570</td>\n",
              "      <td>15.962788</td>\n",
              "      <td>0.011005</td>\n",
              "    </tr>\n",
              "    <tr>\n",
              "      <th>19</th>\n",
              "      <td>DC SCR</td>\n",
              "      <td>B2M</td>\n",
              "      <td>15.955006</td>\n",
              "      <td>15.962788</td>\n",
              "      <td>0.011005</td>\n",
              "    </tr>\n",
              "    <tr>\n",
              "      <th>24</th>\n",
              "      <td>DC SCR</td>\n",
              "      <td>RSAD-2</td>\n",
              "      <td>29.402208</td>\n",
              "      <td>29.357363</td>\n",
              "      <td>0.063421</td>\n",
              "    </tr>\n",
              "    <tr>\n",
              "      <th>25</th>\n",
              "      <td>DC SCR</td>\n",
              "      <td>RSAD-2</td>\n",
              "      <td>29.312517</td>\n",
              "      <td>29.357363</td>\n",
              "      <td>0.063421</td>\n",
              "    </tr>\n",
              "    <tr>\n",
              "      <th>30</th>\n",
              "      <td>DC SCR</td>\n",
              "      <td>MYO1G</td>\n",
              "      <td>23.081709</td>\n",
              "      <td>23.126360</td>\n",
              "      <td>0.063146</td>\n",
              "    </tr>\n",
              "    <tr>\n",
              "      <th>31</th>\n",
              "      <td>DC SCR</td>\n",
              "      <td>MYO1G</td>\n",
              "      <td>23.171011</td>\n",
              "      <td>23.126360</td>\n",
              "      <td>0.063146</td>\n",
              "    </tr>\n",
              "  </tbody>\n",
              "</table>\n",
              "</div>"
            ],
            "text/plain": [
              "   Sample Name Target Name         CT    Ct Mean     Ct SD\n",
              "18      DC SCR         B2M  15.970570  15.962788  0.011005\n",
              "19      DC SCR         B2M  15.955006  15.962788  0.011005\n",
              "24      DC SCR      RSAD-2  29.402208  29.357363  0.063421\n",
              "25      DC SCR      RSAD-2  29.312517  29.357363  0.063421\n",
              "30      DC SCR       MYO1G  23.081709  23.126360  0.063146\n",
              "31      DC SCR       MYO1G  23.171011  23.126360  0.063146"
            ]
          },
          "metadata": {
            "tags": []
          },
          "execution_count": 12
        }
      ]
    },
    {
      "cell_type": "code",
      "metadata": {
        "id": "MXAUS-tS9lQY"
      },
      "source": [
        "DC_SCR_B2M = pcr_clean.loc[18,'Ct Mean']\n",
        "DC_SCR_RSAD = pcr_clean.loc[24,'Ct Mean']\n",
        "DC_SCR_1g = pcr_clean.loc[30,'Ct Mean']"
      ],
      "execution_count": 13,
      "outputs": []
    },
    {
      "cell_type": "code",
      "metadata": {
        "colab": {
          "base_uri": "https://localhost:8080/",
          "height": 200
        },
        "id": "NOp5um9ADELq",
        "outputId": "794c60d6-c6d7-4065-aa6b-2c539b387e3f"
      },
      "source": [
        "pcr_clean.loc[pcr_clean['Sample Name'] == 'DC NT']"
      ],
      "execution_count": 14,
      "outputs": [
        {
          "output_type": "execute_result",
          "data": {
            "text/html": [
              "<div>\n",
              "<style scoped>\n",
              "    .dataframe tbody tr th:only-of-type {\n",
              "        vertical-align: middle;\n",
              "    }\n",
              "\n",
              "    .dataframe tbody tr th {\n",
              "        vertical-align: top;\n",
              "    }\n",
              "\n",
              "    .dataframe thead th {\n",
              "        text-align: right;\n",
              "    }\n",
              "</style>\n",
              "<table border=\"1\" class=\"dataframe\">\n",
              "  <thead>\n",
              "    <tr style=\"text-align: right;\">\n",
              "      <th></th>\n",
              "      <th>Sample Name</th>\n",
              "      <th>Target Name</th>\n",
              "      <th>CT</th>\n",
              "      <th>Ct Mean</th>\n",
              "      <th>Ct SD</th>\n",
              "    </tr>\n",
              "  </thead>\n",
              "  <tbody>\n",
              "    <tr>\n",
              "      <th>0</th>\n",
              "      <td>DC NT</td>\n",
              "      <td>B2M</td>\n",
              "      <td>15.544376</td>\n",
              "      <td>15.588983</td>\n",
              "      <td>0.063083</td>\n",
              "    </tr>\n",
              "    <tr>\n",
              "      <th>1</th>\n",
              "      <td>DC NT</td>\n",
              "      <td>B2M</td>\n",
              "      <td>15.633589</td>\n",
              "      <td>15.588983</td>\n",
              "      <td>0.063083</td>\n",
              "    </tr>\n",
              "    <tr>\n",
              "      <th>7</th>\n",
              "      <td>DC NT</td>\n",
              "      <td>RSAD-2</td>\n",
              "      <td>29.997395</td>\n",
              "      <td>30.053547</td>\n",
              "      <td>0.079411</td>\n",
              "    </tr>\n",
              "    <tr>\n",
              "      <th>12</th>\n",
              "      <td>DC NT</td>\n",
              "      <td>MYO1G</td>\n",
              "      <td>24.180719</td>\n",
              "      <td>24.184471</td>\n",
              "      <td>0.005306</td>\n",
              "    </tr>\n",
              "    <tr>\n",
              "      <th>13</th>\n",
              "      <td>DC NT</td>\n",
              "      <td>MYO1G</td>\n",
              "      <td>24.188223</td>\n",
              "      <td>24.184471</td>\n",
              "      <td>0.005306</td>\n",
              "    </tr>\n",
              "  </tbody>\n",
              "</table>\n",
              "</div>"
            ],
            "text/plain": [
              "   Sample Name Target Name         CT    Ct Mean     Ct SD\n",
              "0        DC NT         B2M  15.544376  15.588983  0.063083\n",
              "1        DC NT         B2M  15.633589  15.588983  0.063083\n",
              "7        DC NT      RSAD-2  29.997395  30.053547  0.079411\n",
              "12       DC NT       MYO1G  24.180719  24.184471  0.005306\n",
              "13       DC NT       MYO1G  24.188223  24.184471  0.005306"
            ]
          },
          "metadata": {
            "tags": []
          },
          "execution_count": 14
        }
      ]
    },
    {
      "cell_type": "code",
      "metadata": {
        "id": "eIUEkV_BDGLs"
      },
      "source": [
        "DC_NT_B2M = pcr_clean.loc[0,'Ct Mean']\n",
        "DC_NT_RSAD = pcr_clean.loc[7,'Ct Mean']\n",
        "DC_NT_1g = pcr_clean.loc[13,'Ct Mean']"
      ],
      "execution_count": 15,
      "outputs": []
    },
    {
      "cell_type": "code",
      "metadata": {
        "colab": {
          "base_uri": "https://localhost:8080/",
          "height": 260
        },
        "id": "OIyh2WfQDYJu",
        "outputId": "3ac900ef-5158-444f-c29c-b496603bcdc6"
      },
      "source": [
        "pcr_clean.loc[pcr_clean['Sample Name'] == 'DC MYO1G #1']"
      ],
      "execution_count": 16,
      "outputs": [
        {
          "output_type": "execute_result",
          "data": {
            "text/html": [
              "<div>\n",
              "<style scoped>\n",
              "    .dataframe tbody tr th:only-of-type {\n",
              "        vertical-align: middle;\n",
              "    }\n",
              "\n",
              "    .dataframe tbody tr th {\n",
              "        vertical-align: top;\n",
              "    }\n",
              "\n",
              "    .dataframe thead th {\n",
              "        text-align: right;\n",
              "    }\n",
              "</style>\n",
              "<table border=\"1\" class=\"dataframe\">\n",
              "  <thead>\n",
              "    <tr style=\"text-align: right;\">\n",
              "      <th></th>\n",
              "      <th>Sample Name</th>\n",
              "      <th>Target Name</th>\n",
              "      <th>CT</th>\n",
              "      <th>Ct Mean</th>\n",
              "      <th>Ct SD</th>\n",
              "    </tr>\n",
              "  </thead>\n",
              "  <tbody>\n",
              "    <tr>\n",
              "      <th>2</th>\n",
              "      <td>DC MYO1G #1</td>\n",
              "      <td>MYO1G</td>\n",
              "      <td>26.270138</td>\n",
              "      <td>26.273643</td>\n",
              "      <td>0.004959</td>\n",
              "    </tr>\n",
              "    <tr>\n",
              "      <th>3</th>\n",
              "      <td>DC MYO1G #1</td>\n",
              "      <td>MYO1G</td>\n",
              "      <td>26.277151</td>\n",
              "      <td>26.273643</td>\n",
              "      <td>0.004959</td>\n",
              "    </tr>\n",
              "    <tr>\n",
              "      <th>35</th>\n",
              "      <td>DC MYO1G #1</td>\n",
              "      <td>B2M</td>\n",
              "      <td>15.990346</td>\n",
              "      <td>15.918935</td>\n",
              "      <td>0.070081</td>\n",
              "    </tr>\n",
              "    <tr>\n",
              "      <th>36</th>\n",
              "      <td>DC MYO1G #1</td>\n",
              "      <td>B2M</td>\n",
              "      <td>15.850265</td>\n",
              "      <td>15.918935</td>\n",
              "      <td>0.070081</td>\n",
              "    </tr>\n",
              "    <tr>\n",
              "      <th>37</th>\n",
              "      <td>DC MYO1G #1</td>\n",
              "      <td>B2M</td>\n",
              "      <td>15.916197</td>\n",
              "      <td>15.918935</td>\n",
              "      <td>0.070081</td>\n",
              "    </tr>\n",
              "    <tr>\n",
              "      <th>41</th>\n",
              "      <td>DC MYO1G #1</td>\n",
              "      <td>RSAD-2</td>\n",
              "      <td>28.811436</td>\n",
              "      <td>28.841965</td>\n",
              "      <td>0.043173</td>\n",
              "    </tr>\n",
              "    <tr>\n",
              "      <th>42</th>\n",
              "      <td>DC MYO1G #1</td>\n",
              "      <td>RSAD-2</td>\n",
              "      <td>28.872492</td>\n",
              "      <td>28.841965</td>\n",
              "      <td>0.043173</td>\n",
              "    </tr>\n",
              "  </tbody>\n",
              "</table>\n",
              "</div>"
            ],
            "text/plain": [
              "    Sample Name Target Name         CT    Ct Mean     Ct SD\n",
              "2   DC MYO1G #1       MYO1G  26.270138  26.273643  0.004959\n",
              "3   DC MYO1G #1       MYO1G  26.277151  26.273643  0.004959\n",
              "35  DC MYO1G #1         B2M  15.990346  15.918935  0.070081\n",
              "36  DC MYO1G #1         B2M  15.850265  15.918935  0.070081\n",
              "37  DC MYO1G #1         B2M  15.916197  15.918935  0.070081\n",
              "41  DC MYO1G #1      RSAD-2  28.811436  28.841965  0.043173\n",
              "42  DC MYO1G #1      RSAD-2  28.872492  28.841965  0.043173"
            ]
          },
          "metadata": {
            "tags": []
          },
          "execution_count": 16
        }
      ]
    },
    {
      "cell_type": "code",
      "metadata": {
        "id": "K4kDEzfpDrUn"
      },
      "source": [
        "DC_1g1_B2M = pcr_clean.loc[35,'Ct Mean']\n",
        "DC_1g1_RSAD = pcr_clean.loc[41,'Ct Mean']\n",
        "DC_1g1_1g = pcr_clean.loc[2,'Ct Mean']"
      ],
      "execution_count": 17,
      "outputs": []
    },
    {
      "cell_type": "code",
      "metadata": {
        "colab": {
          "base_uri": "https://localhost:8080/",
          "height": 230
        },
        "id": "-NwC1agYEB0z",
        "outputId": "1e1c0a76-e6ff-4944-ffc7-319ca2dfc776"
      },
      "source": [
        "pcr_clean.loc[pcr_clean['Sample Name'] == 'DC MYO1G #4']"
      ],
      "execution_count": 18,
      "outputs": [
        {
          "output_type": "execute_result",
          "data": {
            "text/html": [
              "<div>\n",
              "<style scoped>\n",
              "    .dataframe tbody tr th:only-of-type {\n",
              "        vertical-align: middle;\n",
              "    }\n",
              "\n",
              "    .dataframe tbody tr th {\n",
              "        vertical-align: top;\n",
              "    }\n",
              "\n",
              "    .dataframe thead th {\n",
              "        text-align: right;\n",
              "    }\n",
              "</style>\n",
              "<table border=\"1\" class=\"dataframe\">\n",
              "  <thead>\n",
              "    <tr style=\"text-align: right;\">\n",
              "      <th></th>\n",
              "      <th>Sample Name</th>\n",
              "      <th>Target Name</th>\n",
              "      <th>CT</th>\n",
              "      <th>Ct Mean</th>\n",
              "      <th>Ct SD</th>\n",
              "    </tr>\n",
              "  </thead>\n",
              "  <tbody>\n",
              "    <tr>\n",
              "      <th>8</th>\n",
              "      <td>DC MYO1G #4</td>\n",
              "      <td>B2M</td>\n",
              "      <td>15.836969</td>\n",
              "      <td>16.400246</td>\n",
              "      <td>0.796594</td>\n",
              "    </tr>\n",
              "    <tr>\n",
              "      <th>9</th>\n",
              "      <td>DC MYO1G #4</td>\n",
              "      <td>B2M</td>\n",
              "      <td>16.963524</td>\n",
              "      <td>16.400246</td>\n",
              "      <td>0.796594</td>\n",
              "    </tr>\n",
              "    <tr>\n",
              "      <th>14</th>\n",
              "      <td>DC MYO1G #4</td>\n",
              "      <td>RSAD-2</td>\n",
              "      <td>27.345530</td>\n",
              "      <td>27.318592</td>\n",
              "      <td>0.038095</td>\n",
              "    </tr>\n",
              "    <tr>\n",
              "      <th>15</th>\n",
              "      <td>DC MYO1G #4</td>\n",
              "      <td>RSAD-2</td>\n",
              "      <td>27.291655</td>\n",
              "      <td>27.318592</td>\n",
              "      <td>0.038095</td>\n",
              "    </tr>\n",
              "    <tr>\n",
              "      <th>20</th>\n",
              "      <td>DC MYO1G #4</td>\n",
              "      <td>MYO1G</td>\n",
              "      <td>26.219694</td>\n",
              "      <td>26.219978</td>\n",
              "      <td>0.000401</td>\n",
              "    </tr>\n",
              "    <tr>\n",
              "      <th>21</th>\n",
              "      <td>DC MYO1G #4</td>\n",
              "      <td>MYO1G</td>\n",
              "      <td>26.220261</td>\n",
              "      <td>26.219978</td>\n",
              "      <td>0.000401</td>\n",
              "    </tr>\n",
              "  </tbody>\n",
              "</table>\n",
              "</div>"
            ],
            "text/plain": [
              "    Sample Name Target Name         CT    Ct Mean     Ct SD\n",
              "8   DC MYO1G #4         B2M  15.836969  16.400246  0.796594\n",
              "9   DC MYO1G #4         B2M  16.963524  16.400246  0.796594\n",
              "14  DC MYO1G #4      RSAD-2  27.345530  27.318592  0.038095\n",
              "15  DC MYO1G #4      RSAD-2  27.291655  27.318592  0.038095\n",
              "20  DC MYO1G #4       MYO1G  26.219694  26.219978  0.000401\n",
              "21  DC MYO1G #4       MYO1G  26.220261  26.219978  0.000401"
            ]
          },
          "metadata": {
            "tags": []
          },
          "execution_count": 18
        }
      ]
    },
    {
      "cell_type": "code",
      "metadata": {
        "id": "ugrbWsX1EIsl"
      },
      "source": [
        "DC_1g4_B2M = pcr_clean.loc[8,'Ct Mean']\n",
        "DC_1g4_RSAD = pcr_clean.loc[14,'Ct Mean']\n",
        "DC_1g4_1g = pcr_clean.loc[20,'Ct Mean']"
      ],
      "execution_count": 19,
      "outputs": []
    },
    {
      "cell_type": "markdown",
      "metadata": {
        "id": "5UGx0UqWsRSM"
      },
      "source": [
        "Após atribuir as váriaveis, resolvi criar um novo conjunto de dados para facilitar minha análise. \n",
        "Então plotei os dados como um dicionário e criei o dataframe com o pandas \n"
      ]
    },
    {
      "cell_type": "code",
      "metadata": {
        "colab": {
          "base_uri": "https://localhost:8080/",
          "height": 170
        },
        "id": "6LbCbU4TEReW",
        "outputId": "f14bb63b-645e-4947-8959-b9046bb7d974"
      },
      "source": [
        "dct = {'Sample':['NT', 'SCR', \"1G #1\", '1G #4'], \n",
        "       'HK':[DC_NT_B2M, DC_SCR_B2M, DC_1g1_B2M, DC_1g4_B2M], #CT do gene housekeepinh\n",
        "       'myo1g':[DC_NT_1g, DC_SCR_1g, DC_1g1_1g, DC_1g4_1g], #CT da myo1g (um dos genes de interesse)\n",
        "       'RSAD2':[DC_NT_RSAD, DC_SCR_RSAD, DC_1g1_1g, DC_1g4_RSAD], #CT do RSAD2 (Também um gene de interesse)\n",
        "       'DCT 1g': [2**-(DC_NT_1g - DC_NT_B2M), #Fórmula utilizada para saber o quanto um gene é expresso baseado na expressão do housekeeping\n",
        "               2**-(DC_SCR_1g - DC_SCR_B2M),\n",
        "               2**-(DC_1g1_1g-DC_1g1_B2M),\n",
        "               2**-(DC_1g4_1g-DC_1g4_B2M)],\n",
        "        'DCT RSAD-2':  [2**-(DC_NT_RSAD - DC_NT_B2M),  #Fórmula utilizada para saber o quanto um gene é expresso baseado na expressão do housekeeping\n",
        "               2**-(DC_SCR_RSAD - DC_SCR_B2M),\n",
        "               2**-(DC_1g1_RSAD - DC_1g1_B2M),\n",
        "               2**-(DC_1g4_RSAD - DC_1g4_B2M)]}\n",
        "DCT= pd.DataFrame(dct)\n",
        "DCT"
      ],
      "execution_count": 23,
      "outputs": [
        {
          "output_type": "execute_result",
          "data": {
            "text/html": [
              "<div>\n",
              "<style scoped>\n",
              "    .dataframe tbody tr th:only-of-type {\n",
              "        vertical-align: middle;\n",
              "    }\n",
              "\n",
              "    .dataframe tbody tr th {\n",
              "        vertical-align: top;\n",
              "    }\n",
              "\n",
              "    .dataframe thead th {\n",
              "        text-align: right;\n",
              "    }\n",
              "</style>\n",
              "<table border=\"1\" class=\"dataframe\">\n",
              "  <thead>\n",
              "    <tr style=\"text-align: right;\">\n",
              "      <th></th>\n",
              "      <th>Sample</th>\n",
              "      <th>HK</th>\n",
              "      <th>myo1g</th>\n",
              "      <th>RSAD2</th>\n",
              "      <th>DCT 1g</th>\n",
              "      <th>DCT RSAD-2</th>\n",
              "    </tr>\n",
              "  </thead>\n",
              "  <tbody>\n",
              "    <tr>\n",
              "      <th>0</th>\n",
              "      <td>NT</td>\n",
              "      <td>15.588983</td>\n",
              "      <td>24.184471</td>\n",
              "      <td>30.053547</td>\n",
              "      <td>0.002585</td>\n",
              "      <td>0.000044</td>\n",
              "    </tr>\n",
              "    <tr>\n",
              "      <th>1</th>\n",
              "      <td>SCR</td>\n",
              "      <td>15.962788</td>\n",
              "      <td>23.126360</td>\n",
              "      <td>29.357363</td>\n",
              "      <td>0.006975</td>\n",
              "      <td>0.000093</td>\n",
              "    </tr>\n",
              "    <tr>\n",
              "      <th>2</th>\n",
              "      <td>1G #1</td>\n",
              "      <td>15.918935</td>\n",
              "      <td>26.273643</td>\n",
              "      <td>26.273643</td>\n",
              "      <td>0.000764</td>\n",
              "      <td>0.000129</td>\n",
              "    </tr>\n",
              "    <tr>\n",
              "      <th>3</th>\n",
              "      <td>1G #4</td>\n",
              "      <td>16.400246</td>\n",
              "      <td>26.219978</td>\n",
              "      <td>27.318592</td>\n",
              "      <td>0.001107</td>\n",
              "      <td>0.000517</td>\n",
              "    </tr>\n",
              "  </tbody>\n",
              "</table>\n",
              "</div>"
            ],
            "text/plain": [
              "  Sample         HK      myo1g      RSAD2    DCT 1g  DCT RSAD-2\n",
              "0     NT  15.588983  24.184471  30.053547  0.002585    0.000044\n",
              "1    SCR  15.962788  23.126360  29.357363  0.006975    0.000093\n",
              "2  1G #1  15.918935  26.273643  26.273643  0.000764    0.000129\n",
              "3  1G #4  16.400246  26.219978  27.318592  0.001107    0.000517"
            ]
          },
          "metadata": {
            "tags": []
          },
          "execution_count": 23
        }
      ]
    },
    {
      "cell_type": "code",
      "metadata": {
        "colab": {
          "base_uri": "https://localhost:8080/"
        },
        "id": "FICMvedPJJHg",
        "outputId": "27306d72-499c-4b96-8ca4-fe39bea6f58f"
      },
      "source": [
        "DCT.info() #vi as infos do df para saber se as tabelas que continham números estavam como float"
      ],
      "execution_count": 21,
      "outputs": [
        {
          "output_type": "stream",
          "text": [
            "<class 'pandas.core.frame.DataFrame'>\n",
            "RangeIndex: 4 entries, 0 to 3\n",
            "Data columns (total 6 columns):\n",
            " #   Column      Non-Null Count  Dtype  \n",
            "---  ------      --------------  -----  \n",
            " 0   Sample      4 non-null      object \n",
            " 1   HK          4 non-null      float64\n",
            " 2   myo1g       4 non-null      float64\n",
            " 3   RSAD2       4 non-null      float64\n",
            " 4   DCT 1g      4 non-null      float64\n",
            " 5   DCT RSAD-2  4 non-null      float64\n",
            "dtypes: float64(5), object(1)\n",
            "memory usage: 320.0+ bytes\n"
          ],
          "name": "stdout"
        }
      ]
    },
    {
      "cell_type": "code",
      "metadata": {
        "colab": {
          "base_uri": "https://localhost:8080/",
          "height": 366
        },
        "id": "hZrqc2hiNuZA",
        "outputId": "78315427-fe01-4da6-ddc9-78cb9c1bca0e"
      },
      "source": [
        "plt.figure(figsize=(5,5))\n",
        "plt.title('Expresssão gênica de miosina 1g em células dendriticas tratadas ou não com shRNA')\n",
        "sns.barplot(x=\"Sample\", y=\"DCT 1g\", \n",
        "            palette = 'cubehelix', \n",
        "            data= DCT)"
      ],
      "execution_count": 25,
      "outputs": [
        {
          "output_type": "execute_result",
          "data": {
            "text/plain": [
              "<matplotlib.axes._subplots.AxesSubplot at 0x7fbc7b341890>"
            ]
          },
          "metadata": {
            "tags": []
          },
          "execution_count": 25
        },
        {
          "output_type": "display_data",
          "data": {
            "image/png": "[encoded data removed]",
            "text/plain": [
              "<Figure size 360x360 with 1 Axes>"
            ]
          },
          "metadata": {
            "tags": [],
            "needs_background": "light"
          }
        }
      ]
    },
    {
      "cell_type": "code",
      "metadata": {
        "colab": {
          "base_uri": "https://localhost:8080/",
          "height": 366
        },
        "id": "N7tpDylluuk1",
        "outputId": "3e36f6a7-5cd5-4417-a660-056a1201a9ab"
      },
      "source": [
        "plt.figure(figsize=(5,5))\n",
        "plt.title('Expresssão gênica de RSAD2 em células dendriticas tratadas ou não com shRNA para MYO1G')\n",
        "sns.barplot(x=\"Sample\", y=\"DCT RSAD-2\", \n",
        "            palette = 'rocket', \n",
        "            data= DCT)"
      ],
      "execution_count": 29,
      "outputs": [
        {
          "output_type": "execute_result",
          "data": {
            "text/plain": [
              "<matplotlib.axes._subplots.AxesSubplot at 0x7fbc7b101710>"
            ]
          },
          "metadata": {
            "tags": []
          },
          "execution_count": 29
        },
        {
          "output_type": "display_data",
          "data": {
            "image/png": "[encoded data removed]",
            "text/plain": [
              "<Figure size 360x360 with 1 Axes>"
            ]
          },
          "metadata": {
            "tags": [],
            "needs_background": "light"
          }
        }
      ]
    },
    {
      "cell_type": "markdown",
      "metadata": {
        "id": "ZdQ1UOBVvhgb"
      },
      "source": [
        "##Análisando expressão gênica de células Jurkat \n",
        "Utilizei a mesma lógica para analisar as células Jurkat. \n",
        "No entanto dessa vez olhei a expressão de outra proteína, a miosina 9b."
      ]
    },
    {
      "cell_type": "code",
      "metadata": {
        "id": "02Cc5o-0TBBq",
        "colab": {
          "base_uri": "https://localhost:8080/",
          "height": 170
        },
        "outputId": "b49a98ee-a181-4fb7-bd2f-234216ab6849"
      },
      "source": [
        "pcr_clean.loc[pcr_clean['Sample Name'] == 'JURKAT NT']"
      ],
      "execution_count": 40,
      "outputs": [
        {
          "output_type": "execute_result",
          "data": {
            "text/html": [
              "<div>\n",
              "<style scoped>\n",
              "    .dataframe tbody tr th:only-of-type {\n",
              "        vertical-align: middle;\n",
              "    }\n",
              "\n",
              "    .dataframe tbody tr th {\n",
              "        vertical-align: top;\n",
              "    }\n",
              "\n",
              "    .dataframe thead th {\n",
              "        text-align: right;\n",
              "    }\n",
              "</style>\n",
              "<table border=\"1\" class=\"dataframe\">\n",
              "  <thead>\n",
              "    <tr style=\"text-align: right;\">\n",
              "      <th></th>\n",
              "      <th>Sample Name</th>\n",
              "      <th>Target Name</th>\n",
              "      <th>CT</th>\n",
              "      <th>Ct Mean</th>\n",
              "      <th>Ct SD</th>\n",
              "    </tr>\n",
              "  </thead>\n",
              "  <tbody>\n",
              "    <tr>\n",
              "      <th>26</th>\n",
              "      <td>JURKAT NT</td>\n",
              "      <td>HPRT</td>\n",
              "      <td>23.020020</td>\n",
              "      <td>23.276649</td>\n",
              "      <td>0.362931</td>\n",
              "    </tr>\n",
              "    <tr>\n",
              "      <th>27</th>\n",
              "      <td>JURKAT NT</td>\n",
              "      <td>HPRT</td>\n",
              "      <td>23.533281</td>\n",
              "      <td>23.276649</td>\n",
              "      <td>0.362931</td>\n",
              "    </tr>\n",
              "    <tr>\n",
              "      <th>32</th>\n",
              "      <td>JURKAT NT</td>\n",
              "      <td>MYO9B</td>\n",
              "      <td>23.072945</td>\n",
              "      <td>23.034916</td>\n",
              "      <td>0.053779</td>\n",
              "    </tr>\n",
              "    <tr>\n",
              "      <th>33</th>\n",
              "      <td>JURKAT NT</td>\n",
              "      <td>MYO9B</td>\n",
              "      <td>22.996889</td>\n",
              "      <td>23.034916</td>\n",
              "      <td>0.053779</td>\n",
              "    </tr>\n",
              "  </tbody>\n",
              "</table>\n",
              "</div>"
            ],
            "text/plain": [
              "   Sample Name Target Name         CT    Ct Mean     Ct SD\n",
              "26   JURKAT NT        HPRT  23.020020  23.276649  0.362931\n",
              "27   JURKAT NT        HPRT  23.533281  23.276649  0.362931\n",
              "32   JURKAT NT       MYO9B  23.072945  23.034916  0.053779\n",
              "33   JURKAT NT       MYO9B  22.996889  23.034916  0.053779"
            ]
          },
          "metadata": {
            "tags": []
          },
          "execution_count": 40
        }
      ]
    },
    {
      "cell_type": "code",
      "metadata": {
        "id": "m0MmkUxjQz8T"
      },
      "source": [
        "jkt_NT_HPRT = pcr_clean.loc[26,'Ct Mean']\n",
        "jkt_NT_9b = pcr_clean.loc[32,'Ct Mean']"
      ],
      "execution_count": 41,
      "outputs": []
    },
    {
      "cell_type": "code",
      "metadata": {
        "id": "s72HelF0ROV2",
        "colab": {
          "base_uri": "https://localhost:8080/",
          "height": 170
        },
        "outputId": "b6b3d381-6098-48b1-defd-992fd1658fea"
      },
      "source": [
        "pcr_clean.loc[pcr_clean['Sample Name'] == 'JURKAT SCR']"
      ],
      "execution_count": 32,
      "outputs": [
        {
          "output_type": "execute_result",
          "data": {
            "text/html": [
              "<div>\n",
              "<style scoped>\n",
              "    .dataframe tbody tr th:only-of-type {\n",
              "        vertical-align: middle;\n",
              "    }\n",
              "\n",
              "    .dataframe tbody tr th {\n",
              "        vertical-align: top;\n",
              "    }\n",
              "\n",
              "    .dataframe thead th {\n",
              "        text-align: right;\n",
              "    }\n",
              "</style>\n",
              "<table border=\"1\" class=\"dataframe\">\n",
              "  <thead>\n",
              "    <tr style=\"text-align: right;\">\n",
              "      <th></th>\n",
              "      <th>Sample Name</th>\n",
              "      <th>Target Name</th>\n",
              "      <th>CT</th>\n",
              "      <th>Ct Mean</th>\n",
              "      <th>Ct SD</th>\n",
              "    </tr>\n",
              "  </thead>\n",
              "  <tbody>\n",
              "    <tr>\n",
              "      <th>38</th>\n",
              "      <td>JURKAT SCR</td>\n",
              "      <td>HPRT</td>\n",
              "      <td>23.783489</td>\n",
              "      <td>23.822746</td>\n",
              "      <td>0.055518</td>\n",
              "    </tr>\n",
              "    <tr>\n",
              "      <th>39</th>\n",
              "      <td>JURKAT SCR</td>\n",
              "      <td>HPRT</td>\n",
              "      <td>23.862003</td>\n",
              "      <td>23.822746</td>\n",
              "      <td>0.055518</td>\n",
              "    </tr>\n",
              "    <tr>\n",
              "      <th>43</th>\n",
              "      <td>JURKAT SCR</td>\n",
              "      <td>MYO9B</td>\n",
              "      <td>23.465622</td>\n",
              "      <td>23.279995</td>\n",
              "      <td>0.262516</td>\n",
              "    </tr>\n",
              "    <tr>\n",
              "      <th>44</th>\n",
              "      <td>JURKAT SCR</td>\n",
              "      <td>MYO9B</td>\n",
              "      <td>23.094368</td>\n",
              "      <td>23.279995</td>\n",
              "      <td>0.262516</td>\n",
              "    </tr>\n",
              "  </tbody>\n",
              "</table>\n",
              "</div>"
            ],
            "text/plain": [
              "   Sample Name Target Name         CT    Ct Mean     Ct SD\n",
              "38  JURKAT SCR        HPRT  23.783489  23.822746  0.055518\n",
              "39  JURKAT SCR        HPRT  23.862003  23.822746  0.055518\n",
              "43  JURKAT SCR       MYO9B  23.465622  23.279995  0.262516\n",
              "44  JURKAT SCR       MYO9B  23.094368  23.279995  0.262516"
            ]
          },
          "metadata": {
            "tags": []
          },
          "execution_count": 32
        }
      ]
    },
    {
      "cell_type": "code",
      "metadata": {
        "id": "puA5T1ekwrQz"
      },
      "source": [
        "jkt_SCR_HPRT = pcr_clean.loc[38,'Ct Mean']\n",
        "jkt_SCR_9b = pcr_clean.loc[43,'Ct Mean']"
      ],
      "execution_count": 48,
      "outputs": []
    },
    {
      "cell_type": "code",
      "metadata": {
        "colab": {
          "base_uri": "https://localhost:8080/",
          "height": 170
        },
        "id": "9bEz5CgZRG9p",
        "outputId": "3514de3d-6d50-4d3a-e079-fc4408ac5db5"
      },
      "source": [
        "pcr_clean.loc[pcr_clean['Sample Name'] == 'JURKAT MYO9B #3']"
      ],
      "execution_count": 49,
      "outputs": [
        {
          "output_type": "execute_result",
          "data": {
            "text/html": [
              "<div>\n",
              "<style scoped>\n",
              "    .dataframe tbody tr th:only-of-type {\n",
              "        vertical-align: middle;\n",
              "    }\n",
              "\n",
              "    .dataframe tbody tr th {\n",
              "        vertical-align: top;\n",
              "    }\n",
              "\n",
              "    .dataframe thead th {\n",
              "        text-align: right;\n",
              "    }\n",
              "</style>\n",
              "<table border=\"1\" class=\"dataframe\">\n",
              "  <thead>\n",
              "    <tr style=\"text-align: right;\">\n",
              "      <th></th>\n",
              "      <th>Sample Name</th>\n",
              "      <th>Target Name</th>\n",
              "      <th>CT</th>\n",
              "      <th>Ct Mean</th>\n",
              "      <th>Ct SD</th>\n",
              "    </tr>\n",
              "  </thead>\n",
              "  <tbody>\n",
              "    <tr>\n",
              "      <th>4</th>\n",
              "      <td>JURKAT MYO9B #3</td>\n",
              "      <td>HPRT</td>\n",
              "      <td>24.863718</td>\n",
              "      <td>24.589966</td>\n",
              "      <td>0.387144</td>\n",
              "    </tr>\n",
              "    <tr>\n",
              "      <th>5</th>\n",
              "      <td>JURKAT MYO9B #3</td>\n",
              "      <td>HPRT</td>\n",
              "      <td>24.316214</td>\n",
              "      <td>24.589966</td>\n",
              "      <td>0.387144</td>\n",
              "    </tr>\n",
              "    <tr>\n",
              "      <th>10</th>\n",
              "      <td>JURKAT MYO9B #3</td>\n",
              "      <td>MYO9B</td>\n",
              "      <td>24.121443</td>\n",
              "      <td>24.102352</td>\n",
              "      <td>0.027000</td>\n",
              "    </tr>\n",
              "    <tr>\n",
              "      <th>11</th>\n",
              "      <td>JURKAT MYO9B #3</td>\n",
              "      <td>MYO9B</td>\n",
              "      <td>24.083260</td>\n",
              "      <td>24.102352</td>\n",
              "      <td>0.027000</td>\n",
              "    </tr>\n",
              "  </tbody>\n",
              "</table>\n",
              "</div>"
            ],
            "text/plain": [
              "        Sample Name Target Name         CT    Ct Mean     Ct SD\n",
              "4   JURKAT MYO9B #3        HPRT  24.863718  24.589966  0.387144\n",
              "5   JURKAT MYO9B #3        HPRT  24.316214  24.589966  0.387144\n",
              "10  JURKAT MYO9B #3       MYO9B  24.121443  24.102352  0.027000\n",
              "11  JURKAT MYO9B #3       MYO9B  24.083260  24.102352  0.027000"
            ]
          },
          "metadata": {
            "tags": []
          },
          "execution_count": 49
        }
      ]
    },
    {
      "cell_type": "code",
      "metadata": {
        "id": "Xc2cYe6QRPUJ"
      },
      "source": [
        "jkt_9b3_HPRT = pcr_clean.loc[4,'Ct Mean']\n",
        "jkt_9b3_9b = pcr_clean.loc[10,'Ct Mean']"
      ],
      "execution_count": 50,
      "outputs": []
    },
    {
      "cell_type": "code",
      "metadata": {
        "colab": {
          "base_uri": "https://localhost:8080/",
          "height": 170
        },
        "id": "CrN5u-KeRXVH",
        "outputId": "f40e78e3-3def-4223-ea1d-76371347df4a"
      },
      "source": [
        "pcr_clean.loc[pcr_clean['Sample Name'] == 'JURKAT MYO9B #5']"
      ],
      "execution_count": 51,
      "outputs": [
        {
          "output_type": "execute_result",
          "data": {
            "text/html": [
              "<div>\n",
              "<style scoped>\n",
              "    .dataframe tbody tr th:only-of-type {\n",
              "        vertical-align: middle;\n",
              "    }\n",
              "\n",
              "    .dataframe tbody tr th {\n",
              "        vertical-align: top;\n",
              "    }\n",
              "\n",
              "    .dataframe thead th {\n",
              "        text-align: right;\n",
              "    }\n",
              "</style>\n",
              "<table border=\"1\" class=\"dataframe\">\n",
              "  <thead>\n",
              "    <tr style=\"text-align: right;\">\n",
              "      <th></th>\n",
              "      <th>Sample Name</th>\n",
              "      <th>Target Name</th>\n",
              "      <th>CT</th>\n",
              "      <th>Ct Mean</th>\n",
              "      <th>Ct SD</th>\n",
              "    </tr>\n",
              "  </thead>\n",
              "  <tbody>\n",
              "    <tr>\n",
              "      <th>16</th>\n",
              "      <td>JURKAT MYO9B #5</td>\n",
              "      <td>HPRT</td>\n",
              "      <td>23.675720</td>\n",
              "      <td>23.590132</td>\n",
              "      <td>0.121040</td>\n",
              "    </tr>\n",
              "    <tr>\n",
              "      <th>17</th>\n",
              "      <td>JURKAT MYO9B #5</td>\n",
              "      <td>HPRT</td>\n",
              "      <td>23.504543</td>\n",
              "      <td>23.590132</td>\n",
              "      <td>0.121040</td>\n",
              "    </tr>\n",
              "    <tr>\n",
              "      <th>22</th>\n",
              "      <td>JURKAT MYO9B #5</td>\n",
              "      <td>MYO9B</td>\n",
              "      <td>23.653282</td>\n",
              "      <td>23.608627</td>\n",
              "      <td>0.063151</td>\n",
              "    </tr>\n",
              "    <tr>\n",
              "      <th>23</th>\n",
              "      <td>JURKAT MYO9B #5</td>\n",
              "      <td>MYO9B</td>\n",
              "      <td>23.563972</td>\n",
              "      <td>23.608627</td>\n",
              "      <td>0.063151</td>\n",
              "    </tr>\n",
              "  </tbody>\n",
              "</table>\n",
              "</div>"
            ],
            "text/plain": [
              "        Sample Name Target Name         CT    Ct Mean     Ct SD\n",
              "16  JURKAT MYO9B #5        HPRT  23.675720  23.590132  0.121040\n",
              "17  JURKAT MYO9B #5        HPRT  23.504543  23.590132  0.121040\n",
              "22  JURKAT MYO9B #5       MYO9B  23.653282  23.608627  0.063151\n",
              "23  JURKAT MYO9B #5       MYO9B  23.563972  23.608627  0.063151"
            ]
          },
          "metadata": {
            "tags": []
          },
          "execution_count": 51
        }
      ]
    },
    {
      "cell_type": "code",
      "metadata": {
        "id": "Nmx_vI_7xWnF"
      },
      "source": [
        "jkt_9b5_HPRT = pcr_clean.loc[16,'Ct Mean']\n",
        "jkt_9b5_9b = pcr_clean.loc[22,'Ct Mean']"
      ],
      "execution_count": 52,
      "outputs": []
    },
    {
      "cell_type": "code",
      "metadata": {
        "colab": {
          "base_uri": "https://localhost:8080/",
          "height": 170
        },
        "id": "PvJ5CuKKxfKy",
        "outputId": "664aa58d-cbc0-4174-b758-03e92fcbd807"
      },
      "source": [
        "dctjkt = {'Sample':['NT', 'SCR', \"9B #3\", '9B #5'], \n",
        "       'HK':[jkt_NT_HPRT, jkt_SCR_HPRT, jkt_9b3_HPRT, jkt_9b5_HPRT], #CT do gene housekeeping\n",
        "       'myo9b':[jkt_NT_9b, jkt_SCR_9b, jkt_9b3_9b, jkt_9b5_9b], #CT da myo1g (um dos genes de interesse)\n",
        "       'DCT 9b': [2**-(jkt_NT_9b - jkt_NT_HPRT), #Fórmula utilizada para saber o quanto um gene é expresso baseado na expressão do housekeeping\n",
        "               2**-(jkt_SCR_9b - jkt_SCR_HPRT),\n",
        "               2**-(jkt_9b3_9b - jkt_9b3_HPRT),\n",
        "               2**-(jkt_9b5_9b - jkt_9b5_HPRT)]}\n",
        "dctjkt= pd.DataFrame(dctjkt)\n",
        "dctjkt"
      ],
      "execution_count": 56,
      "outputs": [
        {
          "output_type": "execute_result",
          "data": {
            "text/html": [
              "<div>\n",
              "<style scoped>\n",
              "    .dataframe tbody tr th:only-of-type {\n",
              "        vertical-align: middle;\n",
              "    }\n",
              "\n",
              "    .dataframe tbody tr th {\n",
              "        vertical-align: top;\n",
              "    }\n",
              "\n",
              "    .dataframe thead th {\n",
              "        text-align: right;\n",
              "    }\n",
              "</style>\n",
              "<table border=\"1\" class=\"dataframe\">\n",
              "  <thead>\n",
              "    <tr style=\"text-align: right;\">\n",
              "      <th></th>\n",
              "      <th>Sample</th>\n",
              "      <th>HK</th>\n",
              "      <th>myo9b</th>\n",
              "      <th>DCT 9b</th>\n",
              "    </tr>\n",
              "  </thead>\n",
              "  <tbody>\n",
              "    <tr>\n",
              "      <th>0</th>\n",
              "      <td>NT</td>\n",
              "      <td>23.276649</td>\n",
              "      <td>23.034916</td>\n",
              "      <td>1.182413</td>\n",
              "    </tr>\n",
              "    <tr>\n",
              "      <th>1</th>\n",
              "      <td>SCR</td>\n",
              "      <td>23.822746</td>\n",
              "      <td>23.279995</td>\n",
              "      <td>1.456748</td>\n",
              "    </tr>\n",
              "    <tr>\n",
              "      <th>2</th>\n",
              "      <td>9B #3</td>\n",
              "      <td>24.589966</td>\n",
              "      <td>24.102352</td>\n",
              "      <td>1.402124</td>\n",
              "    </tr>\n",
              "    <tr>\n",
              "      <th>3</th>\n",
              "      <td>9B #5</td>\n",
              "      <td>23.590132</td>\n",
              "      <td>23.608627</td>\n",
              "      <td>0.987262</td>\n",
              "    </tr>\n",
              "  </tbody>\n",
              "</table>\n",
              "</div>"
            ],
            "text/plain": [
              "  Sample         HK      myo9b    DCT 9b\n",
              "0     NT  23.276649  23.034916  1.182413\n",
              "1    SCR  23.822746  23.279995  1.456748\n",
              "2  9B #3  24.589966  24.102352  1.402124\n",
              "3  9B #5  23.590132  23.608627  0.987262"
            ]
          },
          "metadata": {
            "tags": []
          },
          "execution_count": 56
        }
      ]
    },
    {
      "cell_type": "code",
      "metadata": {
        "colab": {
          "base_uri": "https://localhost:8080/",
          "height": 366
        },
        "id": "rQYNhnn8z3LL",
        "outputId": "45468beb-e8eb-4294-da4e-34f95623ec4d"
      },
      "source": [
        "plt.figure(figsize=(5,5))\n",
        "plt.title('Expresssão gênica de miosina 9b em células Jurkat tratadas ou não com shRNA para MYO9B')\n",
        "sns.barplot(x=\"Sample\", y=\"DCT 9b\", \n",
        "            palette = 'autumn', \n",
        "            data= dctjkt)"
      ],
      "execution_count": 59,
      "outputs": [
        {
          "output_type": "execute_result",
          "data": {
            "text/plain": [
              "<matplotlib.axes._subplots.AxesSubplot at 0x7fbc7aea4290>"
            ]
          },
          "metadata": {
            "tags": []
          },
          "execution_count": 59
        },
        {
          "output_type": "display_data",
          "data": {
            "image/png": "[encoded data removed]",
            "text/plain": [
              "<Figure size 360x360 with 1 Axes>"
            ]
          },
          "metadata": {
            "tags": [],
            "needs_background": "light"
          }
        }
      ]
    },
    {
      "cell_type": "markdown",
      "metadata": {
        "id": "RnUJyYoW0aIC"
      },
      "source": [
        "#Conclusões\n",
        "Os shRNAs usados em Células Dendriticas para silenciar a myosina 1g funcionaram bem, porém, provocaram ativação células como é possível observar com o aumento da expressão de RSAD-2. \n",
        "Os shRNAs utilizados nas células Jurkat não funcionaram, visto que a expressão da miosina 9b continuou a mesma ou reduziu muito pouco."
      ]
    }
  ]
}